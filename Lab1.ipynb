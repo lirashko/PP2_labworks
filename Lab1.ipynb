{
 "cells": [
  {
   "cell_type": "markdown",
   "id": "d18cfdb7-7a34-4111-920a-94c37dc8f2e3",
   "metadata": {},
   "source": []
  },
  {
   "cell_type": "markdown",
   "id": "1b3ce975-9fcb-4db8-957a-60a2c8c49213",
   "metadata": {},
   "source": [
    "Example 1"
   ]
  },
  {
   "cell_type": "code",
   "execution_count": 1,
   "id": "c22e03d1-64df-42ef-8a28-1cb2a5959848",
   "metadata": {},
   "outputs": [
    {
     "name": "stdout",
     "output_type": "stream",
     "text": [
      "Hello world\n"
     ]
    }
   ],
   "source": [
    "print(\"Hello world\")"
   ]
  },
  {
   "cell_type": "markdown",
   "id": "11b80887-3b74-4ac0-b239-4592eec54a3b",
   "metadata": {},
   "source": [
    "Example 2"
   ]
  },
  {
   "cell_type": "code",
   "execution_count": 3,
   "id": "559c5498-b7e6-485c-9e37-bcea4a9e512e",
   "metadata": {},
   "outputs": [
    {
     "name": "stdin",
     "output_type": "stream",
     "text": [
      " 2\n",
      " 3\n"
     ]
    },
    {
     "name": "stdout",
     "output_type": "stream",
     "text": [
      "5\n"
     ]
    }
   ],
   "source": [
    "a=int(input())\n",
    "b=int(input())\n",
    "print(a+b)\n"
   ]
  },
  {
   "cell_type": "markdown",
   "id": "95d83298-88ca-4f52-8647-8d43847ce24c",
   "metadata": {},
   "source": [
    "3 Python Identation"
   ]
  },
  {
   "cell_type": "code",
   "execution_count": 4,
   "id": "6969a266-9e9c-4956-9ab3-ac45d837dea8",
   "metadata": {},
   "outputs": [
    {
     "name": "stdout",
     "output_type": "stream",
     "text": [
      "5 is greater than 2\n",
      "5 is greater than 2\n"
     ]
    }
   ],
   "source": [
    "if 5>2:\n",
    "    print(\"5 is greater than 2\")\n",
    "if 5 >2 :\n",
    "         print(\"5 is greater than 2\")\n",
    "    "
   ]
  },
  {
   "cell_type": "markdown",
   "id": "00b39c9c-6f5d-43de-885e-0265f2d2ef27",
   "metadata": {},
   "source": [
    " 4 python variables\n",
    " "
   ]
  },
  {
   "cell_type": "code",
   "execution_count": 5,
   "id": "eb6fc8f1-1bf6-49a2-9d3e-fa8554f56fe8",
   "metadata": {},
   "outputs": [
    {
     "name": "stdout",
     "output_type": "stream",
     "text": [
      "5\n",
      "Hello world\n"
     ]
    }
   ],
   "source": [
    "x =5\n",
    "y=\"Hello world\"\n",
    "print(x)\n",
    "print(y)\n"
   ]
  },
  {
   "cell_type": "markdown",
   "id": "ef705e3b-8c2f-4228-a456-4b1af648bf6c",
   "metadata": {},
   "source": [
    "5 comment"
   ]
  },
  {
   "cell_type": "code",
   "execution_count": 6,
   "id": "b739471d-c317-4896-b345-f8e3748124a9",
   "metadata": {},
   "outputs": [
    {
     "name": "stdout",
     "output_type": "stream",
     "text": [
      "Hello world\n"
     ]
    }
   ],
   "source": [
    "#this is comment\n",
    "x=\"Hello world\"\n",
    "print(x)\n"
   ]
  },
  {
   "cell_type": "markdown",
   "id": "b556a03e-0681-4081-9573-c936a7a05083",
   "metadata": {},
   "source": [
    "6. Correct file extension for python files"
   ]
  },
  {
   "cell_type": "markdown",
   "id": "403e5874-c872-4a06-b62f-25e992e9b4ca",
   "metadata": {},
   "source": [
    ".py"
   ]
  },
  {
   "cell_type": "markdown",
   "id": "6058009b-0520-49ac-8c89-922450dbd38d",
   "metadata": {},
   "source": [
    "7.correct command line syntax for cheking if python is installed on your computer(also to check the python version)"
   ]
  },
  {
   "cell_type": "markdown",
   "id": "53b3076b-d9e7-4ed2-b4f9-2595da308a41",
   "metadata": {},
   "source": [
    "python--version"
   ]
  },
  {
   "cell_type": "markdown",
   "id": "9bae5fbe-54f8-4d25-9be5-ae466454dda4",
   "metadata": {},
   "source": [
    "8.correct syntax to exit the python command line interface"
   ]
  },
  {
   "cell_type": "code",
   "execution_count": 1,
   "id": "932808e2-3acc-4106-bfc9-e60a422057b0",
   "metadata": {},
   "outputs": [],
   "source": [
    "exit()"
   ]
  },
  {
   "cell_type": "markdown",
   "id": "869084a6-0e79-46da-8e16-b72d6b4efacc",
   "metadata": {},
   "source": [
    "9.Python interpreter version information"
   ]
  },
  {
   "cell_type": "code",
   "execution_count": 1,
   "id": "75fbe54b-cc3b-43cc-83a8-59d17318f766",
   "metadata": {},
   "outputs": [
    {
     "name": "stdout",
     "output_type": "stream",
     "text": [
      "3.12.7 | packaged by Anaconda, Inc. | (main, Oct  4 2024, 13:17:27) [MSC v.1929 64 bit (AMD64)]\n"
     ]
    }
   ],
   "source": [
    "import sys\n",
    "print(sys.version)"
   ]
  },
  {
   "cell_type": "markdown",
   "id": "d303670a-d90e-4566-9cd4-ba9f86196132",
   "metadata": {},
   "source": [
    "10.comment lines"
   ]
  },
  {
   "cell_type": "code",
   "execution_count": 2,
   "id": "f9f62a50-872c-4d99-b01b-c79e03f8fbfa",
   "metadata": {},
   "outputs": [
    {
     "name": "stdout",
     "output_type": "stream",
     "text": [
      "Hello world!\n"
     ]
    }
   ],
   "source": [
    "'''\n",
    "This is a comment\n",
    "written in\n",
    "more than just one line'''\n",
    "print(\"Hello world!\")\n"
   ]
  },
  {
   "cell_type": "markdown",
   "id": "80fe13f0-a771-47bf-b3e9-72da536a6b56",
   "metadata": {},
   "source": [
    "11.comments line"
   ]
  },
  {
   "cell_type": "code",
   "execution_count": 3,
   "id": "d40ff0c4-4dc6-430e-9edf-5d266ade22be",
   "metadata": {},
   "outputs": [
    {
     "data": {
      "text/plain": [
       "'This is a comment\\nwritten in \\nmore than just one line'"
      ]
     },
     "execution_count": 3,
     "metadata": {},
     "output_type": "execute_result"
    }
   ],
   "source": [
    "'''This is a comment\n",
    "written in \n",
    "more than just one line'''"
   ]
  },
  {
   "cell_type": "markdown",
   "id": "762afc25-3bfc-485a-b100-4af4366cee39",
   "metadata": {},
   "source": [
    "Variables\n"
   ]
  },
  {
   "cell_type": "markdown",
   "id": "f9db747f-629a-4b1f-966d-a8c8bab38f16",
   "metadata": {},
   "source": [
    "12.A variable is created the moment you first assign a value to it"
   ]
  },
  {
   "cell_type": "code",
   "execution_count": 4,
   "id": "7777aecc-ec6b-4ac0-925a-81929ad57ea1",
   "metadata": {},
   "outputs": [
    {
     "name": "stdout",
     "output_type": "stream",
     "text": [
      "5\n",
      "Jack\n"
     ]
    }
   ],
   "source": [
    "x=5\n",
    "y=\"Jack\"\n",
    "print(x)\n",
    "print(y)"
   ]
  },
  {
   "cell_type": "markdown",
   "id": "c304e5cb-a011-4df0-8dbf-3d7a0254f24f",
   "metadata": {},
   "source": [
    "13.Variable do not need to be declared with any particular type ,and can even change type after they have been set"
   ]
  },
  {
   "cell_type": "code",
   "execution_count": 5,
   "id": "51daa15d-c6da-4479-add9-a26606d81f68",
   "metadata": {},
   "outputs": [
    {
     "name": "stdout",
     "output_type": "stream",
     "text": [
      "Miko\n"
     ]
    }
   ],
   "source": [
    "x=4\n",
    "x=\"Miko\"\n",
    "print(x)"
   ]
  },
  {
   "cell_type": "markdown",
   "id": "1002ca39-3b96-45ab-8783-d7a896700519",
   "metadata": {},
   "source": [
    "14.If you want to specify the data type of a variable,this can be done with casting"
   ]
  },
  {
   "cell_type": "code",
   "execution_count": 6,
   "id": "f70f8c6c-0dc9-474f-954a-6d36099a8751",
   "metadata": {},
   "outputs": [],
   "source": [
    "x=str(3) #x will be '3\n",
    "y=int(3) # y will be 3\n",
    "z=float(3) #z will be 3.0"
   ]
  },
  {
   "cell_type": "markdown",
   "id": "98ed0f53-5d51-4503-9cac-bf8c02ce03e6",
   "metadata": {},
   "source": [
    "15.You can get the data type of a variable with the type()function"
   ]
  },
  {
   "cell_type": "code",
   "execution_count": 7,
   "id": "cf3254ac-c398-4c56-8e39-750aa1ad3834",
   "metadata": {},
   "outputs": [
    {
     "name": "stdout",
     "output_type": "stream",
     "text": [
      "<class 'int'>\n",
      "<class 'str'>\n"
     ]
    }
   ],
   "source": [
    "x=5\n",
    "y=\"Hii\"\n",
    "print(type(x))\n",
    "print(type(y))"
   ]
  },
  {
   "cell_type": "markdown",
   "id": "fe365cf4-26a5-43b0-924d-a52cc8d6033f",
   "metadata": {},
   "source": [
    "16.String variables can be declared either by using single or double quotes;"
   ]
  },
  {
   "cell_type": "code",
   "execution_count": 8,
   "id": "68539301-0c53-48ea-8d59-c2c0dccef169",
   "metadata": {},
   "outputs": [],
   "source": [
    "x=\"Peter\"\n",
    "#is the same as\n",
    "x='Peter'"
   ]
  },
  {
   "cell_type": "markdown",
   "id": "f7c67b0b-0cbe-462a-a3fb-473d5e4bf7d5",
   "metadata": {},
   "source": [
    "17.Variable names are casr-sensitive"
   ]
  },
  {
   "cell_type": "code",
   "execution_count": 9,
   "id": "62a5e6e3-d380-4d53-af91-171da0ac0af5",
   "metadata": {},
   "outputs": [],
   "source": [
    "a=4\n",
    "A=\"Bili\"\n",
    "#A will not overwrite a"
   ]
  },
  {
   "cell_type": "markdown",
   "id": "26eda16c-01f9-489e-a6f1-2f3165144946",
   "metadata": {},
   "source": [
    "18. Variable names\n"
   ]
  },
  {
   "cell_type": "code",
   "execution_count": 11,
   "id": "dee1f2da-c96f-4a11-966a-dba0b72dad55",
   "metadata": {},
   "outputs": [],
   "source": [
    "#Legal variable names:\n",
    "myvar=\"Jon\"\n",
    "my_var=\"Jon\"\n",
    "_my_var=\"Jon\"\n",
    "myVar=\"Jon\"\n",
    "MYVAR=\"Jon\"\n",
    "myvar2=\"Jon\"\n"
   ]
  },
  {
   "cell_type": "code",
   "execution_count": 13,
   "id": "41c0f27c-ed90-48d1-8b10-e9542c30287b",
   "metadata": {},
   "outputs": [
    {
     "ename": "SyntaxError",
     "evalue": "invalid decimal literal (4047427076.py, line 2)",
     "output_type": "error",
     "traceback": [
      "\u001b[1;36m  Cell \u001b[1;32mIn[13], line 2\u001b[1;36m\u001b[0m\n\u001b[1;33m    2myvar=\"Jon\"\u001b[0m\n\u001b[1;37m    ^\u001b[0m\n\u001b[1;31mSyntaxError\u001b[0m\u001b[1;31m:\u001b[0m invalid decimal literal\n"
     ]
    }
   ],
   "source": [
    "#Illegal variable names:\n",
    "2myvar=\"Jon\"\n",
    "my-var=\"Jon\"\n",
    "my var=\"Jon\""
   ]
  },
  {
   "cell_type": "code",
   "execution_count": 15,
   "id": "f6d7bfe0-cd60-48c1-9bb2-e31990f2cf22",
   "metadata": {},
   "outputs": [],
   "source": [
    "#CamelCase\n",
    "myVariableName=\"Jon\"\n",
    "#PascalCase\n",
    "#Each word starts with a capital letter\n",
    "MyVariableName=\"jon\"\n",
    "'''SnakeCase\n",
    "Each word is seprated by an underscore character:'''\n",
    "my_variable_name=\"Jon\""
   ]
  },
  {
   "cell_type": "markdown",
   "id": "3262f25a-15bb-465a-9e98-26f16fda908c",
   "metadata": {},
   "source": [
    "19.Multiple values"
   ]
  },
  {
   "cell_type": "code",
   "execution_count": 17,
   "id": "84103f1e-defd-4686-9b35-447c6227d651",
   "metadata": {},
   "outputs": [
    {
     "name": "stdout",
     "output_type": "stream",
     "text": [
      "Banana\n",
      "Apple\n",
      "Lemon\n"
     ]
    }
   ],
   "source": [
    "#Python allows you to assign values to multiple variables in one line\n",
    "x,y,z=\"Banana\",\"Apple\",\"Lemon\"\n",
    "print(x)\n",
    "print(y)\n",
    "print(z)"
   ]
  },
  {
   "cell_type": "code",
   "execution_count": 20,
   "id": "38e0e790-1438-4955-96c1-3431480c8b58",
   "metadata": {},
   "outputs": [
    {
     "name": "stdout",
     "output_type": "stream",
     "text": [
      "Beibei\n",
      "Beibei\n",
      "Beibei\n"
     ]
    }
   ],
   "source": [
    "#you can assign the same value to mupltiple variables in one line:\n",
    "x=y=z=\"Beibei\"\n",
    "print(x)\n",
    "print(y)\n",
    "print(z)"
   ]
  },
  {
   "cell_type": "code",
   "execution_count": 21,
   "id": "ca475cd5-1960-41a7-bb11-5c4d7a386363",
   "metadata": {},
   "outputs": [
    {
     "name": "stdout",
     "output_type": "stream",
     "text": [
      "Cherry\n",
      "Grape\n",
      "Orange\n"
     ]
    }
   ],
   "source": [
    "#Unpack a list\n",
    "fruits=[\"Cherry\",\"Grape\",\"Orange\"]\n",
    "x,y,z=fruits\n",
    "print(x)\n",
    "print(y)\n",
    "print(z)\n"
   ]
  },
  {
   "cell_type": "code",
   "execution_count": 22,
   "id": "f0f8c268-79a2-4272-9d16-65a83f7feb33",
   "metadata": {},
   "outputs": [],
   "source": [
    "#correct syntax to add the valur \"Hello\" to 3 variables in one statement\n",
    "x=y=z=\"Hello\""
   ]
  },
  {
   "cell_type": "markdown",
   "id": "055c3f2a-c15e-46e7-8849-ba2f5a925db7",
   "metadata": {},
   "source": [
    "20.Output variables"
   ]
  },
  {
   "cell_type": "code",
   "execution_count": 23,
   "id": "376e90a9-1841-4e21-b312-c35f6f1e955d",
   "metadata": {},
   "outputs": [
    {
     "name": "stdout",
     "output_type": "stream",
     "text": [
      "Python is awsome\n"
     ]
    }
   ],
   "source": [
    "x=\"Python is awsome\"\n",
    "print(x)"
   ]
  },
  {
   "cell_type": "code",
   "execution_count": 24,
   "id": "285666d7-e4ca-4d02-b708-c52b0b81d336",
   "metadata": {},
   "outputs": [
    {
     "name": "stdout",
     "output_type": "stream",
     "text": [
      "Python is awsome\n"
     ]
    }
   ],
   "source": [
    "#In the print() function,you output the multiple variables,seprated by a comma:\n",
    "x=\"Python\"\n",
    "y=\"is\"\n",
    "z=\"awsome\"\n",
    "print(x,y,z)\n"
   ]
  },
  {
   "cell_type": "code",
   "execution_count": 29,
   "id": "0a45c404-5f77-4bee-869f-9ea7e7125c21",
   "metadata": {},
   "outputs": [
    {
     "name": "stdout",
     "output_type": "stream",
     "text": [
      "Python is awsome\n"
     ]
    }
   ],
   "source": [
    "#you can alse use the + operator to output multiple variables:\n",
    "x=\"Python \"\n",
    "y=\"is \"\n",
    "z=\"awsome\"\n",
    "print(x + y + z)\n"
   ]
  },
  {
   "cell_type": "code",
   "execution_count": 30,
   "id": "7b4cae09-0883-4131-bfd1-2c64191a639a",
   "metadata": {},
   "outputs": [
    {
     "name": "stdout",
     "output_type": "stream",
     "text": [
      "19\n"
     ]
    }
   ],
   "source": [
    "#For numbers,the + character work as a mathematical operator:\n",
    "x=10\n",
    "y=9\n",
    "print(x+y)"
   ]
  },
  {
   "cell_type": "code",
   "execution_count": 31,
   "id": "9a747c55-522b-4760-817c-c6be8407fa38",
   "metadata": {},
   "outputs": [
    {
     "ename": "TypeError",
     "evalue": "unsupported operand type(s) for +: 'int' and 'str'",
     "output_type": "error",
     "traceback": [
      "\u001b[1;31m---------------------------------------------------------------------------\u001b[0m",
      "\u001b[1;31mTypeError\u001b[0m                                 Traceback (most recent call last)",
      "Cell \u001b[1;32mIn[31], line 4\u001b[0m\n\u001b[0;32m      2\u001b[0m x\u001b[38;5;241m=\u001b[39m\u001b[38;5;241m5\u001b[39m\n\u001b[0;32m      3\u001b[0m y\u001b[38;5;241m=\u001b[39m\u001b[38;5;124m\"\u001b[39m\u001b[38;5;124mli\u001b[39m\u001b[38;5;124m\"\u001b[39m\n\u001b[1;32m----> 4\u001b[0m \u001b[38;5;28mprint\u001b[39m(x\u001b[38;5;241m+\u001b[39my)\n",
      "\u001b[1;31mTypeError\u001b[0m: unsupported operand type(s) for +: 'int' and 'str'"
     ]
    }
   ],
   "source": [
    "#In the print() function,when you try to combine a string and a number with + operator,python will gve you an error:\n",
    "x=5\n",
    "y=\"li\"\n",
    "print(x+y)\n"
   ]
  },
  {
   "cell_type": "markdown",
   "id": "1a66c8b3-9e0f-44c3-a152-7b788a4537cd",
   "metadata": {},
   "source": [
    "21.Global variables"
   ]
  },
  {
   "cell_type": "code",
   "execution_count": 33,
   "id": "3b67dca0-3aca-4a74-8d1f-fde4f5a040e8",
   "metadata": {},
   "outputs": [
    {
     "name": "stdout",
     "output_type": "stream",
     "text": [
      "Python is awsome\n"
     ]
    }
   ],
   "source": [
    "#Create a function outsideof a funtion,anduse it inside the funtion\n",
    "x=\"awsome\"\n",
    "def myfunc():\n",
    "    print(\"Python is \" +x)\n",
    "myfunc()"
   ]
  },
  {
   "cell_type": "code",
   "execution_count": 34,
   "id": "c70fbe08-e63d-48ee-b4f7-193faeb8c0e7",
   "metadata": {},
   "outputs": [
    {
     "name": "stdout",
     "output_type": "stream",
     "text": [
      "Pythom is fantastic\n",
      "Python is awsome\n"
     ]
    }
   ],
   "source": [
    "#Create a variable inside a function,with same name as the global variable\n",
    "x=\"awsome\"\n",
    "def myfunc():\n",
    "    x=\"fantastic\"\n",
    "    print(\"Pythom is \"+x)\n",
    "myfunc()\n",
    "print(\"Python is \" +x)"
   ]
  },
  {
   "cell_type": "code",
   "execution_count": 37,
   "id": "26043831-046b-4987-8651-fe8fbc08339d",
   "metadata": {},
   "outputs": [
    {
     "name": "stdout",
     "output_type": "stream",
     "text": [
      "Python is fantastic\n"
     ]
    }
   ],
   "source": [
    "#if you use the global keyword,the variable belongs to the global scope\n",
    "def myfunc():\n",
    "    global x\n",
    "    x=\"fantastic\"\n",
    "myfunc()\n",
    "print(\"Python is \"+x)"
   ]
  },
  {
   "cell_type": "code",
   "execution_count": 38,
   "id": "c82ded3c-1b41-4602-81ff-f7c2b2520aee",
   "metadata": {},
   "outputs": [
    {
     "name": "stdout",
     "output_type": "stream",
     "text": [
      "Python is amazing\n"
     ]
    }
   ],
   "source": [
    "#to change the value of global variable inside a function, refer to the variable by using the global keyword:\n",
    "x=\"awsome\"\n",
    "def myfunc():\n",
    "    global x\n",
    "    x=\"amazing\"\n",
    "myfunc()\n",
    "print(\"Python is \"+x)"
   ]
  },
  {
   "cell_type": "markdown",
   "id": "d17965e5-fc21-4d2f-b3f9-42fe1d1109bb",
   "metadata": {},
   "source": [
    "21.Data types"
   ]
  },
  {
   "cell_type": "code",
   "execution_count": 39,
   "id": "3dd1af4b-01d9-4be7-9d15-88d1e89cb66c",
   "metadata": {},
   "outputs": [
    {
     "name": "stdout",
     "output_type": "stream",
     "text": [
      "<class 'int'>\n"
     ]
    }
   ],
   "source": [
    "#Print the data type of given variable:\n",
    "x=5\n",
    "print(type(x))"
   ]
  },
  {
   "cell_type": "code",
   "execution_count": 40,
   "id": "ba7729a5-3572-4951-89e3-f91b202298cf",
   "metadata": {},
   "outputs": [
    {
     "name": "stdout",
     "output_type": "stream",
     "text": [
      "<class 'str'>\n"
     ]
    }
   ],
   "source": [
    "x=\"Hello\"\n",
    "print(type(x))"
   ]
  },
  {
   "cell_type": "code",
   "execution_count": 41,
   "id": "dc8210fb-e012-4998-8add-dbad20270bbc",
   "metadata": {},
   "outputs": [
    {
     "name": "stdout",
     "output_type": "stream",
     "text": [
      "<class 'float'>\n"
     ]
    }
   ],
   "source": [
    "x=20.6\n",
    "print(type(x))"
   ]
  },
  {
   "cell_type": "code",
   "execution_count": 42,
   "id": "b7ced92c-631a-414a-aed3-887bb22bcdf3",
   "metadata": {},
   "outputs": [
    {
     "name": "stdout",
     "output_type": "stream",
     "text": [
      "<class 'complex'>\n"
     ]
    }
   ],
   "source": [
    "x=1j\n",
    "print(type(x))"
   ]
  },
  {
   "cell_type": "code",
   "execution_count": 43,
   "id": "e3ffaf0c-a2f8-4d21-91d8-1f2dd8f3bc88",
   "metadata": {},
   "outputs": [
    {
     "name": "stdout",
     "output_type": "stream",
     "text": [
      "<class 'list'>\n"
     ]
    }
   ],
   "source": [
    "x=[\"apple\",\"banana\",\"cherry\"]\n",
    "print(type(x))\n"
   ]
  },
  {
   "cell_type": "code",
   "execution_count": 44,
   "id": "243df3a6-f963-4cfa-b79b-dd7d51ea991b",
   "metadata": {},
   "outputs": [
    {
     "name": "stdout",
     "output_type": "stream",
     "text": [
      "<class 'tuple'>\n"
     ]
    }
   ],
   "source": [
    "x=(\"apple\",\"banana\",\"lemon\")\n",
    "print(type(x))"
   ]
  },
  {
   "cell_type": "code",
   "execution_count": 45,
   "id": "6ffdc560-6325-428d-9fd7-aaec6650b71f",
   "metadata": {},
   "outputs": [
    {
     "name": "stdout",
     "output_type": "stream",
     "text": [
      "<class 'range'>\n"
     ]
    }
   ],
   "source": [
    "x=range(6)\n",
    "print(type(x))"
   ]
  },
  {
   "cell_type": "code",
   "execution_count": 47,
   "id": "422b24fe-1eba-4d81-8a34-bbde7bcc5e6e",
   "metadata": {},
   "outputs": [
    {
     "name": "stdout",
     "output_type": "stream",
     "text": [
      "<class 'dict'>\n"
     ]
    }
   ],
   "source": [
    "x={\"name\":\"Miko\",\"age\":19}\n",
    "print(type(x))"
   ]
  },
  {
   "cell_type": "code",
   "execution_count": 48,
   "id": "4010cb41-461b-4c4b-84cf-fff16b7857dc",
   "metadata": {},
   "outputs": [
    {
     "name": "stdout",
     "output_type": "stream",
     "text": [
      "<class 'set'>\n"
     ]
    }
   ],
   "source": [
    "x={\"aplle\",\"banana\",\"cherry\"}\n",
    "print(type(x))"
   ]
  },
  {
   "cell_type": "code",
   "execution_count": 51,
   "id": "9a62b364-9446-4125-b1ad-202b5504b534",
   "metadata": {},
   "outputs": [
    {
     "name": "stdout",
     "output_type": "stream",
     "text": [
      "<class 'frozenset'>\n"
     ]
    }
   ],
   "source": [
    "x=frozenset({\"apple\",\"banana\",\"cherry\"})\n",
    "print(type(x))"
   ]
  },
  {
   "cell_type": "code",
   "execution_count": 52,
   "id": "169a4d38-8b0d-4464-90d7-6a21b381ef8d",
   "metadata": {},
   "outputs": [
    {
     "name": "stdout",
     "output_type": "stream",
     "text": [
      "<class 'bool'>\n"
     ]
    }
   ],
   "source": [
    "x=True\n",
    "print(type(x))"
   ]
  },
  {
   "cell_type": "code",
   "execution_count": 53,
   "id": "82ad78fb-b083-4280-81b7-80469d6ecbc1",
   "metadata": {},
   "outputs": [
    {
     "name": "stdout",
     "output_type": "stream",
     "text": [
      "<class 'bytes'>\n"
     ]
    }
   ],
   "source": [
    "x=b\"Hello\"\n",
    "print(type(x))"
   ]
  },
  {
   "cell_type": "code",
   "execution_count": 54,
   "id": "25036bd5-d883-47e6-920a-b51c28d67ddc",
   "metadata": {},
   "outputs": [
    {
     "name": "stdout",
     "output_type": "stream",
     "text": [
      "<class 'bytearray'>\n"
     ]
    }
   ],
   "source": [
    "x=bytearray(5)\n",
    "print(type(x))"
   ]
  },
  {
   "cell_type": "code",
   "execution_count": 56,
   "id": "32211871-e345-4c64-9a01-dfb91d490475",
   "metadata": {},
   "outputs": [
    {
     "name": "stdout",
     "output_type": "stream",
     "text": [
      "<class 'memoryview'>\n"
     ]
    }
   ],
   "source": [
    "x=memoryview(bytes(5))\n",
    "print(type(x))"
   ]
  },
  {
   "cell_type": "code",
   "execution_count": 57,
   "id": "8035cf5e-28ec-4280-a736-d114da7a31b2",
   "metadata": {},
   "outputs": [
    {
     "name": "stdout",
     "output_type": "stream",
     "text": [
      "<class 'NoneType'>\n"
     ]
    }
   ],
   "source": [
    "x=None\n",
    "print(type(x))"
   ]
  },
  {
   "cell_type": "markdown",
   "id": "1aba4703-352b-428d-9afd-a8c0e485971e",
   "metadata": {},
   "source": [
    "22.Numbers\n"
   ]
  },
  {
   "cell_type": "code",
   "execution_count": 58,
   "id": "4189f7b9-7fc8-4387-bbc9-83657723a2a5",
   "metadata": {},
   "outputs": [
    {
     "name": "stdout",
     "output_type": "stream",
     "text": [
      "<class 'int'>\n",
      "<class 'float'>\n",
      "<class 'complex'>\n"
     ]
    }
   ],
   "source": [
    "x=1 #int\n",
    "y=2.3 #float\n",
    "z=1j # complex\n",
    "#To verify the type of any object in python,use the type function:\n",
    "print(type(x))\n",
    "print(type(y))\n",
    "print(type(z))\n"
   ]
  },
  {
   "cell_type": "code",
   "execution_count": 59,
   "id": "4023718e-590e-48e0-be04-1333411a768a",
   "metadata": {},
   "outputs": [
    {
     "name": "stdout",
     "output_type": "stream",
     "text": [
      "<class 'int'>\n",
      "<class 'int'>\n",
      "<class 'int'>\n"
     ]
    }
   ],
   "source": [
    "#Integers:\n",
    "x=1122234\n",
    "y=1\n",
    "z=-34567543\n",
    "print(type(x))\n",
    "print(type(y))\n",
    "print(type(z))"
   ]
  },
  {
   "cell_type": "code",
   "execution_count": 60,
   "id": "e69a2482-8614-4a52-8353-78a16a87d378",
   "metadata": {},
   "outputs": [
    {
     "name": "stdout",
     "output_type": "stream",
     "text": [
      "<class 'float'>\n",
      "<class 'float'>\n",
      "<class 'float'>\n"
     ]
    }
   ],
   "source": [
    "#Floats\n",
    "x=1.3\n",
    "y=3.67\n",
    "z=-234.98\n",
    "print(type(x))\n",
    "print(type(y))\n",
    "print(type(z))"
   ]
  },
  {
   "cell_type": "code",
   "execution_count": 61,
   "id": "f81f78ff-d904-4aea-9c4a-fa2c0cda01c1",
   "metadata": {},
   "outputs": [
    {
     "name": "stdout",
     "output_type": "stream",
     "text": [
      "<class 'complex'>\n",
      "<class 'complex'>\n",
      "<class 'complex'>\n"
     ]
    }
   ],
   "source": [
    "#Complex\n",
    "x=3+5j\n",
    "y=5j\n",
    "z=-5j\n",
    "print(type(x))\n",
    "print(type(y))\n",
    "print(type(z))"
   ]
  },
  {
   "cell_type": "code",
   "execution_count": 63,
   "id": "26f08939-e0b5-436e-a7ce-ee1fdd6d6328",
   "metadata": {},
   "outputs": [
    {
     "name": "stdout",
     "output_type": "stream",
     "text": [
      "1.0\n",
      "2\n",
      "5j\n",
      "<class 'float'>\n",
      "<class 'int'>\n",
      "<class 'complex'>\n"
     ]
    }
   ],
   "source": [
    "#Convert from one type to another\n",
    "x=1 #int\n",
    "y=2.8 #float\n",
    "z=5j #complex\n",
    "#convert from int to float\n",
    "a=float(x)\n",
    "#convert from float to int\n",
    "b=int(y)\n",
    "#convert from int to complex\n",
    "c=complex(z)\n",
    "print(a)\n",
    "print(b)\n",
    "print(c)\n",
    "print(type(a))\n",
    "print(type(b))\n",
    "print(type(c))"
   ]
  },
  {
   "cell_type": "code",
   "execution_count": 64,
   "id": "a6eea200-664b-464e-88e2-16c9e8c2e9d6",
   "metadata": {},
   "outputs": [
    {
     "name": "stdout",
     "output_type": "stream",
     "text": [
      "2\n"
     ]
    }
   ],
   "source": [
    "#import the random module,and display a random nujmber between 1 and 9:\n",
    "import random\n",
    "print(random.randrange(1,10))"
   ]
  },
  {
   "cell_type": "markdown",
   "id": "8e24c557-e0a6-4022-a0a9-e838b6fbd5e7",
   "metadata": {},
   "source": [
    "23.Casting"
   ]
  },
  {
   "cell_type": "code",
   "execution_count": 65,
   "id": "e85de19e-ae8f-4e34-bc36-61591932d7b2",
   "metadata": {},
   "outputs": [],
   "source": [
    "#Integers\n",
    "x=int(1) #x will be 1\n",
    "y=int(2.8) # y will be 2\n",
    "z=int(\"3\") # z will be 3\n"
   ]
  },
  {
   "cell_type": "code",
   "execution_count": 66,
   "id": "b5d4310e-3e05-4840-8ad6-1212021d0042",
   "metadata": {},
   "outputs": [],
   "source": [
    "#Floats\n",
    "x=float(1) # x will be 1.0\n",
    "y=float(2.8) # y will be 2.8\n",
    "z=float(\"4.5\") #z will be 4.5\n"
   ]
  },
  {
   "cell_type": "code",
   "execution_count": 67,
   "id": "df3ddb9a-28d7-465d-8212-24a00c13c734",
   "metadata": {},
   "outputs": [],
   "source": [
    "#Strings \n",
    "x=str(\"s2\") # x will be s2\n",
    "y=str(2) #y will be 2\n",
    "z=str(2.9) #z will be 2.9"
   ]
  },
  {
   "cell_type": "markdown",
   "id": "6999e9c2-d5a9-465e-baab-477561bc02c5",
   "metadata": {},
   "source": [
    "24.Strings"
   ]
  },
  {
   "cell_type": "code",
   "execution_count": 68,
   "id": "56f9025a-8090-468c-99b3-c09aa10d654a",
   "metadata": {},
   "outputs": [
    {
     "name": "stdout",
     "output_type": "stream",
     "text": [
      "Hello\n",
      "Hello\n"
     ]
    }
   ],
   "source": [
    "#You can display a string literal with the print() function:\n",
    "print(\"Hello\")\n",
    "print('Hello')\n"
   ]
  },
  {
   "cell_type": "code",
   "execution_count": 70,
   "id": "bcc52639-abbe-4b42-bcc8-48046a3c8599",
   "metadata": {},
   "outputs": [
    {
     "name": "stdout",
     "output_type": "stream",
     "text": [
      "It's alright\n",
      "He is called 'Johnny'\n",
      "He is called \"Johnny\"\n"
     ]
    }
   ],
   "source": [
    "#You can use the quotes inside a string,as long as they don't mathch the quote surrounding the string:\n",
    "print(\"It's alright\")\n",
    "print(\"He is called 'Johnny'\")\n",
    "print('He is called \"Johnny\"')"
   ]
  },
  {
   "cell_type": "code",
   "execution_count": 72,
   "id": "a18fbd8c-40fe-4ca7-a10a-f409ebad378e",
   "metadata": {},
   "outputs": [
    {
     "name": "stdout",
     "output_type": "stream",
     "text": [
      "Hello\n"
     ]
    }
   ],
   "source": [
    "#Assigning a string to a variable is done with the variable name followed by an equal sign and the string  \n",
    "a =\"Hello\"\n",
    "print(a)"
   ]
  },
  {
   "cell_type": "code",
   "execution_count": 74,
   "id": "d63efee6-6b64-4eea-99ea-0c409b997dd2",
   "metadata": {},
   "outputs": [
    {
     "name": "stdout",
     "output_type": "stream",
     "text": [
      "Lorem ipsum dolor sit amet,\n",
      "consectetur adipiscing elit,\n",
      "sed do eiusmod tempor incididunt\n",
      "ut labore et dolore magna aliqua.\n"
     ]
    }
   ],
   "source": [
    "#You can use the three double quotes\n",
    "a = \"\"\"Lorem ipsum dolor sit amet,\n",
    "consectetur adipiscing elit,\n",
    "sed do eiusmod tempor incididunt\n",
    "ut labore et dolore magna aliqua.\"\"\"\n",
    "print(a)"
   ]
  },
  {
   "cell_type": "code",
   "execution_count": 76,
   "id": "21c8b515-6a2f-4f99-8e5e-0cc8995a3d81",
   "metadata": {},
   "outputs": [
    {
     "name": "stdout",
     "output_type": "stream",
     "text": [
      "Lorem ipsum dolor sit amet,\n",
      "consectetur adipiscing elit,\n",
      "sed do eiusmod tempor incididunt\n",
      "ut labore et dolore magna aliqua.\n"
     ]
    }
   ],
   "source": [
    "#Or three single quotes\n",
    "a = '''Lorem ipsum dolor sit amet,\n",
    "consectetur adipiscing elit,\n",
    "sed do eiusmod tempor incididunt\n",
    "ut labore et dolore magna aliqua.'''\n",
    "print(a)"
   ]
  },
  {
   "cell_type": "code",
   "execution_count": 77,
   "id": "b38cf153-c4e1-4f71-a954-48f9658a08bd",
   "metadata": {},
   "outputs": [
    {
     "name": "stdout",
     "output_type": "stream",
     "text": [
      "e\n"
     ]
    }
   ],
   "source": [
    "#Get the character at position 1(remember that the first character has the position 0):\n",
    "a=\"Hello,world\"\n",
    "print(a[1])"
   ]
  },
  {
   "cell_type": "code",
   "execution_count": 80,
   "id": "af87b959-631e-45e5-9c81-2d9b3611bf41",
   "metadata": {},
   "outputs": [
    {
     "name": "stdout",
     "output_type": "stream",
     "text": [
      "b\n",
      "a\n",
      "n\n",
      "a\n",
      "n\n",
      "a\n"
     ]
    }
   ],
   "source": [
    "#Loop through the letters in the word \"banana\"\n",
    "for x in \"banana\":\n",
    "    print(x)"
   ]
  },
  {
   "cell_type": "code",
   "execution_count": 81,
   "id": "6c38c200-9593-4a0c-9710-320bd588673d",
   "metadata": {},
   "outputs": [
    {
     "name": "stdout",
     "output_type": "stream",
     "text": [
      "11\n"
     ]
    }
   ],
   "source": [
    "#the len() function returns the length of a string\n",
    "a=\"Hello,world\"\n",
    "print(len(a))"
   ]
  },
  {
   "cell_type": "code",
   "execution_count": 82,
   "id": "a0315eb5-a381-48ea-8fed-6538f3b18737",
   "metadata": {},
   "outputs": [
    {
     "name": "stdout",
     "output_type": "stream",
     "text": [
      "True\n"
     ]
    }
   ],
   "source": [
    "#Check if \"Free\" is present in the following text\n",
    "txt=\"The best things in life are free!\"\n",
    "print(\"free\" in txt)"
   ]
  },
  {
   "cell_type": "code",
   "execution_count": 83,
   "id": "15514e67-ae31-4de3-8f0f-525a546e0573",
   "metadata": {},
   "outputs": [
    {
     "name": "stdout",
     "output_type": "stream",
     "text": [
      "Yes,'free'is present\n"
     ]
    }
   ],
   "source": [
    "#Print if only \"free\" is present:\n",
    "txt =\"The best things in life are free\"\n",
    "if \"free\" in txt:\n",
    "    print(\"Yes,'free'is present\")"
   ]
  },
  {
   "cell_type": "code",
   "execution_count": 84,
   "id": "7a2a7376-e8e3-453b-8b2b-20ea9c222706",
   "metadata": {},
   "outputs": [
    {
     "name": "stdout",
     "output_type": "stream",
     "text": [
      "True\n"
     ]
    }
   ],
   "source": [
    "#check if \"expensive\"is not present in the following text:\n",
    "txt=\"The best things in life are free\"\n",
    "print(\"expensive\" not in txt)"
   ]
  },
  {
   "cell_type": "code",
   "execution_count": 86,
   "id": "ffa986a9-bb25-4c8e-9e9b-45adf0a70d1d",
   "metadata": {},
   "outputs": [
    {
     "name": "stdout",
     "output_type": "stream",
     "text": [
      "No,'expensive' is not present\n"
     ]
    }
   ],
   "source": [
    "#Print only if \"expensive\" is not present:\n",
    "txt= \"Best thins in life are free\"\n",
    "if \"expensive\" not in txt:\n",
    "    print(\"No,'expensive' is not present\")"
   ]
  },
  {
   "cell_type": "markdown",
   "id": "3ef40d67-5d19-404a-b2bf-d0fe5bd4e1b2",
   "metadata": {},
   "source": [
    "25.Slicing strings"
   ]
  },
  {
   "cell_type": "code",
   "execution_count": 87,
   "id": "e81c4255-db46-4ef4-9548-64529f528603",
   "metadata": {},
   "outputs": [
    {
     "name": "stdout",
     "output_type": "stream",
     "text": [
      "llo\n"
     ]
    }
   ],
   "source": [
    "#Gets the character from position 2 to position 5(not included):\n",
    "b=\"Hello,world!\"\n",
    "print(b[2:5])"
   ]
  },
  {
   "cell_type": "code",
   "execution_count": 88,
   "id": "7808bc47-2a68-44f4-a4b6-bfe389c9533b",
   "metadata": {},
   "outputs": [
    {
     "name": "stdout",
     "output_type": "stream",
     "text": [
      "Hello\n"
     ]
    }
   ],
   "source": [
    "#Gets the character from starts to position 5(not included):\n",
    "b=\"Hello ,world!\"\n",
    "print(b[:5])"
   ]
  },
  {
   "cell_type": "code",
   "execution_count": 89,
   "id": "c17cf450-7198-4dde-859a-74df88a76719",
   "metadata": {},
   "outputs": [
    {
     "name": "stdout",
     "output_type": "stream",
     "text": [
      "llo,world!\n"
     ]
    }
   ],
   "source": [
    "#Get the character from position 2, and all the way to the end:\n",
    "b=\"Hello,world!\"\n",
    "print(b[2:])"
   ]
  },
  {
   "cell_type": "code",
   "execution_count": 90,
   "id": "c278625b-18fb-4e3c-84cf-b7123dd0616c",
   "metadata": {},
   "outputs": [
    {
     "name": "stdout",
     "output_type": "stream",
     "text": [
      "orl\n"
     ]
    }
   ],
   "source": [
    "'''Get the characters:\n",
    "\n",
    "From: \"o\" in \"World!\" (position -5)\n",
    "\n",
    "To, but not included: \"d\" in \"World!\" (position -2):'''\n",
    "\n",
    "b = \"Hello, World!\"\n",
    "print(b[-5:-2])"
   ]
  },
  {
   "cell_type": "markdown",
   "id": "c4d9a1ed-eb29-42a5-bce2-0f21277ac7ec",
   "metadata": {},
   "source": [
    "26. Modify string"
   ]
  },
  {
   "cell_type": "code",
   "execution_count": 91,
   "id": "a006bb05-d761-486e-9d7f-a08a67c76637",
   "metadata": {},
   "outputs": [
    {
     "name": "stdout",
     "output_type": "stream",
     "text": [
      "HELLO,WORLD!\n"
     ]
    }
   ],
   "source": [
    "#The upper() method returns the string in upper case:\n",
    "a=\"Hello,world!\"\n",
    "print(a.upper())"
   ]
  },
  {
   "cell_type": "code",
   "execution_count": 92,
   "id": "94254b81-69c4-4e42-8fac-b7c80f71ed61",
   "metadata": {},
   "outputs": [
    {
     "name": "stdout",
     "output_type": "stream",
     "text": [
      "hello,world!\n"
     ]
    }
   ],
   "source": [
    "#The lower() methond returns the string in lower case:\n",
    "a=\"Hello,world!\"\n",
    "print(a.lower())"
   ]
  },
  {
   "cell_type": "code",
   "execution_count": 3,
   "id": "68501226-ce3d-430d-9dda-aea4bf754c5c",
   "metadata": {},
   "outputs": [
    {
     "name": "stdout",
     "output_type": "stream",
     "text": [
      "Hello,world!\n"
     ]
    }
   ],
   "source": [
    "#The strip() method removes any whitespace frome the begnning or the end;\n",
    "a=\" Hello,world! \"#a will be \"Hello,wordl!\"\n",
    "print(a.strip())"
   ]
  },
  {
   "cell_type": "code",
   "execution_count": 7,
   "id": "8eb73579-02b7-44a9-9fc7-70b614a41d7e",
   "metadata": {},
   "outputs": [
    {
     "name": "stdout",
     "output_type": "stream",
     "text": [
      "Jello world!\n"
     ]
    }
   ],
   "source": [
    "#The replace() method replaces a string with another string:\n",
    "a=\"Hello world!\"\n",
    "print(a.replace(\"H\",\"J\"))\n",
    "      "
   ]
  },
  {
   "cell_type": "code",
   "execution_count": 11,
   "id": "3f697463-8e3f-43f7-b60f-19fced70b731",
   "metadata": {},
   "outputs": [
    {
     "name": "stdout",
     "output_type": "stream",
     "text": [
      "['Hello world!']\n"
     ]
    }
   ],
   "source": [
    "#The split() method splits string into substrings if it find instances of the separator:\n",
    "a=\"Hello world!\"\n",
    "print(a.split(\",\"))"
   ]
  },
  {
   "cell_type": "markdown",
   "id": "89f28b81-7e90-441b-b183-9b9481ba3996",
   "metadata": {},
   "source": [
    "27.String Concatenation"
   ]
  },
  {
   "cell_type": "code",
   "execution_count": 14,
   "id": "19677fd1-e5a3-4e8b-a52a-797ecd240eb4",
   "metadata": {},
   "outputs": [
    {
     "name": "stdout",
     "output_type": "stream",
     "text": [
      "Hello,world!\n"
     ]
    }
   ],
   "source": [
    "#Merge variable a with variable b into variable c:\n",
    "a=\"Hello,\"\n",
    "b=\"world!\"\n",
    "c=a+b\n",
    "print(c)"
   ]
  },
  {
   "cell_type": "code",
   "execution_count": 18,
   "id": "5843b2dc-c28a-4ea4-8b83-7fcbb98c9fdc",
   "metadata": {},
   "outputs": [
    {
     "name": "stdout",
     "output_type": "stream",
     "text": [
      "Hello world\n"
     ]
    }
   ],
   "source": [
    "#To add a space between them:\n",
    "a=\"Hello\"\n",
    "b=\"world\"\n",
    "c=a+\" \"+b\n",
    "print(c)"
   ]
  },
  {
   "cell_type": "markdown",
   "id": "505f61fa-93b8-430f-9c5b-5da5c30eafd9",
   "metadata": {},
   "source": [
    "28.String Format"
   ]
  },
  {
   "cell_type": "code",
   "execution_count": 21,
   "id": "b90ca859-e6ca-4b13-b199-b597aafb6a80",
   "metadata": {},
   "outputs": [
    {
     "ename": "TypeError",
     "evalue": "can only concatenate str (not \"int\") to str",
     "output_type": "error",
     "traceback": [
      "\u001b[1;31m---------------------------------------------------------------------------\u001b[0m",
      "\u001b[1;31mTypeError\u001b[0m                                 Traceback (most recent call last)",
      "Cell \u001b[1;32mIn[21], line 2\u001b[0m\n\u001b[0;32m      1\u001b[0m age\u001b[38;5;241m=\u001b[39m\u001b[38;5;241m36\u001b[39m\n\u001b[1;32m----> 2\u001b[0m txt\u001b[38;5;241m=\u001b[39m\u001b[38;5;124m\"\u001b[39m\u001b[38;5;124mMy naame is John,my age is\u001b[39m\u001b[38;5;124m\"\u001b[39m\u001b[38;5;241m+\u001b[39mage\n\u001b[0;32m      3\u001b[0m \u001b[38;5;28mprint\u001b[39m(txt)\n",
      "\u001b[1;31mTypeError\u001b[0m: can only concatenate str (not \"int\") to str"
     ]
    }
   ],
   "source": [
    "age=36\n",
    "txt=\"My naame is John,my age is\"+age\n",
    "print(txt)"
   ]
  },
  {
   "cell_type": "code",
   "execution_count": 27,
   "id": "148fc7c7-6cec-4bc6-8ce6-902a98c2e971",
   "metadata": {},
   "outputs": [
    {
     "name": "stdout",
     "output_type": "stream",
     "text": [
      "my name is John,my age 36\n"
     ]
    }
   ],
   "source": [
    "#Create an f-string\n",
    "age=36\n",
    "txt=f\"my name is John,my age {age}\"\n",
    "print(txt)"
   ]
  },
  {
   "cell_type": "code",
   "execution_count": 29,
   "id": "985053af-cf1c-4650-8718-b3eb62807428",
   "metadata": {},
   "outputs": [
    {
     "name": "stdout",
     "output_type": "stream",
     "text": [
      "The price is 34 dollars\n"
     ]
    }
   ],
   "source": [
    "#Add a placehoders for a price variable:\n",
    "price=34\n",
    "txt=f\"The price is {price} dollars\"\n",
    "print(txt)"
   ]
  },
  {
   "cell_type": "code",
   "execution_count": 31,
   "id": "919636da-53ec-4106-a956-abceabf0cfcf",
   "metadata": {},
   "outputs": [
    {
     "name": "stdout",
     "output_type": "stream",
     "text": [
      "The price is 56.00\n"
     ]
    }
   ],
   "source": [
    "#Display the price with 2 decimals:\n",
    "price=56\n",
    "txt=f\"The price is {price:.2f}\"\n",
    "print(txt)"
   ]
  },
  {
   "cell_type": "code",
   "execution_count": 33,
   "id": "969b68e3-fd6b-49b7-b21a-6c7879fa5ba8",
   "metadata": {},
   "outputs": [
    {
     "name": "stdout",
     "output_type": "stream",
     "text": [
      "The price is 276 dollars\n"
     ]
    }
   ],
   "source": [
    "txt=f\"The price is {23*12} dollars\"\n",
    "print(txt)"
   ]
  },
  {
   "cell_type": "markdown",
   "id": "197c694e-1b57-4aa3-9d33-e719a1d2b07f",
   "metadata": {},
   "source": [
    "29.Escape character"
   ]
  },
  {
   "cell_type": "code",
   "execution_count": 38,
   "id": "e30ab262-8315-4034-b406-fa9f18908d6c",
   "metadata": {},
   "outputs": [
    {
     "ename": "SyntaxError",
     "evalue": "invalid syntax (3895363916.py, line 1)",
     "output_type": "error",
     "traceback": [
      "\u001b[1;36m  Cell \u001b[1;32mIn[38], line 1\u001b[1;36m\u001b[0m\n\u001b[1;33m    txt=\"We are the so-called \"Viking\" from the north\"\u001b[0m\n\u001b[1;37m                               ^\u001b[0m\n\u001b[1;31mSyntaxError\u001b[0m\u001b[1;31m:\u001b[0m invalid syntax\n"
     ]
    }
   ],
   "source": [
    "txt=\"We are the so-called \"Viking\" from the north\""
   ]
  },
  {
   "cell_type": "code",
   "execution_count": 40,
   "id": "d0bc47e3-38a9-4c13-9255-f03e10fe5425",
   "metadata": {},
   "outputs": [
    {
     "name": "stdout",
     "output_type": "stream",
     "text": [
      "We are so-called \"vikings\" from thw north\n"
     ]
    }
   ],
   "source": [
    "#The escape character allows you to use double quotes when you normally would not be allowed\n",
    "txt=\"We are so-called \\\"vikings\\\" from thw north\"\n",
    "print(txt)"
   ]
  },
  {
   "cell_type": "code",
   "execution_count": 42,
   "id": "ac51da37-ba80-44a8-8506-a6199d2cbc82",
   "metadata": {},
   "outputs": [
    {
     "name": "stdout",
     "output_type": "stream",
     "text": [
      "We are so-called 'viking' from the north.\n"
     ]
    }
   ],
   "source": [
    "txt=\"We are so-called \\'viking\\' from the north.\"\n",
    "print(txt)"
   ]
  },
  {
   "cell_type": "code",
   "execution_count": 44,
   "id": "2cd680bf-e9d2-48f6-b52b-66871dcae051",
   "metadata": {},
   "outputs": [
    {
     "name": "stdout",
     "output_type": "stream",
     "text": [
      "We are so-called \\viking\\ from the north.\n"
     ]
    }
   ],
   "source": [
    "txt=\"We are so-called \\\\viking\\\\ from the north.\"\n",
    "print(txt)"
   ]
  },
  {
   "cell_type": "code",
   "execution_count": 46,
   "id": "3af6ce8f-cea9-4947-a8b9-f0487de9e129",
   "metadata": {},
   "outputs": [
    {
     "name": "stdout",
     "output_type": "stream",
     "text": [
      "We are so-called \n",
      "viking from the north\n"
     ]
    }
   ],
   "source": [
    "txt=\"We are so-called \\nviking from the north\"\n",
    "print(txt)"
   ]
  },
  {
   "cell_type": "code",
   "execution_count": 48,
   "id": "85f812a9-8b9d-4432-b191-d9de04b143f1",
   "metadata": {},
   "outputs": [
    {
     "name": "stdout",
     "output_type": "stream",
     "text": [
      "we are so-called \tviking from the north.\n"
     ]
    }
   ],
   "source": [
    "txt=\"we are so-called \\tviking from the north.\"\n",
    "print(txt)"
   ]
  },
  {
   "cell_type": "code",
   "execution_count": 50,
   "id": "f84e2f58-21de-4ff0-9ccc-4d42a404d426",
   "metadata": {},
   "outputs": [
    {
     "name": "stdout",
     "output_type": "stream",
     "text": [
      "We are so-calledviking from the north.\n"
     ]
    }
   ],
   "source": [
    "txt=\"We are so-called \\bviking from the north.\"\n",
    "print(txt)"
   ]
  },
  {
   "cell_type": "code",
   "execution_count": 52,
   "id": "7be7f698-cc5c-4d1d-a76e-99757b143d44",
   "metadata": {},
   "outputs": [
    {
     "name": "stdout",
     "output_type": "stream",
     "text": [
      "We are so-called \f",
      "viking  from the north.\n"
     ]
    }
   ],
   "source": [
    "txt=\"We are so-called \\fviking  from the north.\"\n",
    "print(txt)"
   ]
  },
  {
   "cell_type": "markdown",
   "id": "b63472fb-89a4-42e4-b43f-15b995c39a40",
   "metadata": {},
   "source": [
    "30.String methods"
   ]
  },
  {
   "cell_type": "code",
   "execution_count": 61,
   "id": "83c737e6-ab25-4466-bc1d-e3cf3f01c407",
   "metadata": {},
   "outputs": [
    {
     "name": "stdout",
     "output_type": "stream",
     "text": [
      "Hello, and welcome to my world.\n"
     ]
    }
   ],
   "source": [
    "txt=\"hello, and welcome to my world.\"\n",
    "x=txt.capitalize()\n",
    "print(x)"
   ]
  },
  {
   "cell_type": "code",
   "execution_count": 65,
   "id": "1518a1c1-7332-4f15-a488-2b8676f4c50e",
   "metadata": {},
   "outputs": [
    {
     "name": "stdout",
     "output_type": "stream",
     "text": [
      "hello,this is my world!\n"
     ]
    }
   ],
   "source": [
    "txt=\"Hello,This is My World!\"\n",
    "x=txt.casefold()\n",
    "print(x)"
   ]
  },
  {
   "cell_type": "code",
   "execution_count": 67,
   "id": "d201abd6-2cfc-4a9c-942b-6afadc158ffa",
   "metadata": {},
   "outputs": [
    {
     "name": "stdout",
     "output_type": "stream",
     "text": [
      "       banana       \n"
     ]
    }
   ],
   "source": [
    "txt=\"banana\"\n",
    "x=txt.center(20)\n",
    "print(x)"
   ]
  },
  {
   "cell_type": "code",
   "execution_count": 69,
   "id": "e1aa8f48-c287-4288-a606-ee6710eb9ea6",
   "metadata": {},
   "outputs": [
    {
     "name": "stdout",
     "output_type": "stream",
     "text": [
      "2\n"
     ]
    }
   ],
   "source": [
    "txt=\"I love cherry,cherry is my favorite fruit\"\n",
    "x=txt.count(\"cherry\")\n",
    "print(x)"
   ]
  },
  {
   "cell_type": "code",
   "execution_count": 73,
   "id": "2f706acf-aa25-4a14-b68a-2711fd5c8df6",
   "metadata": {},
   "outputs": [
    {
     "name": "stdout",
     "output_type": "stream",
     "text": [
      "b'My name is St\\xc3\\xa5le'\n"
     ]
    }
   ],
   "source": [
    "txt = \"My name is Ståle\"\n",
    "x=txt.encode()\n",
    "print(x)"
   ]
  },
  {
   "cell_type": "code",
   "execution_count": 75,
   "id": "cd97fc53-89c1-41ae-99f8-ae4bcf4da904",
   "metadata": {},
   "outputs": [
    {
     "name": "stdout",
     "output_type": "stream",
     "text": [
      "True\n"
     ]
    }
   ],
   "source": [
    "txt=\"Hello,welcome to my world.\"\n",
    "x=txt.endswith(\".\")\n",
    "print(x)\n"
   ]
  },
  {
   "cell_type": "code",
   "execution_count": 77,
   "id": "1ac1496c-230f-4fad-be42-c594c47a5f43",
   "metadata": {},
   "outputs": [
    {
     "name": "stdout",
     "output_type": "stream",
     "text": [
      "H e l l o\n"
     ]
    }
   ],
   "source": [
    "txt=\"H\\te\\tl\\tl\\to\"\n",
    "x=txt.expandtabs(2)\n",
    "print(x)"
   ]
  },
  {
   "cell_type": "code",
   "execution_count": 79,
   "id": "7b569e0f-ada2-4a1d-ac1e-e7c08af99997",
   "metadata": {},
   "outputs": [
    {
     "name": "stdout",
     "output_type": "stream",
     "text": [
      "6\n"
     ]
    }
   ],
   "source": [
    "txt=\"Hello,welcome to my world.\"\n",
    "x=txt.find(\"welcome\")\n",
    "print(x)"
   ]
  },
  {
   "cell_type": "code",
   "execution_count": 81,
   "id": "bdd84d6b-0aff-4d68-9a28-93e2bde5e13e",
   "metadata": {},
   "outputs": [
    {
     "name": "stdout",
     "output_type": "stream",
     "text": [
      "For only 49.00 dollars\n"
     ]
    }
   ],
   "source": [
    "txt=\"For only {price:.2f} dollars\"\n",
    "print(txt.format(price=49))"
   ]
  },
  {
   "cell_type": "code",
   "execution_count": 83,
   "id": "16e90636-6195-42e7-bc7e-98e4745d4838",
   "metadata": {},
   "outputs": [
    {
     "name": "stdout",
     "output_type": "stream",
     "text": [
      "6\n"
     ]
    }
   ],
   "source": [
    "txt=\"hello,welcome to my world\"\n",
    "x=txt.index(\"welcome\")\n",
    "print(x)"
   ]
  },
  {
   "cell_type": "code",
   "execution_count": 87,
   "id": "132fbc5d-3650-4076-89e9-23b9212e1fd0",
   "metadata": {},
   "outputs": [
    {
     "name": "stdout",
     "output_type": "stream",
     "text": [
      "True\n"
     ]
    }
   ],
   "source": [
    "txt=\"Company12\"\n",
    "x=txt.isalnum()\n",
    "print(x)"
   ]
  },
  {
   "cell_type": "code",
   "execution_count": 91,
   "id": "4d68076c-ad85-4f5c-bdae-5b85998f8f3e",
   "metadata": {},
   "outputs": [
    {
     "name": "stdout",
     "output_type": "stream",
     "text": [
      "True\n"
     ]
    }
   ],
   "source": [
    "txt=\"CompanyX\"\n",
    "x=txt.isalpha()\n",
    "print(x)"
   ]
  },
  {
   "cell_type": "code",
   "execution_count": 95,
   "id": "84dff39c-aa24-4f2c-88cd-45eeaab330b5",
   "metadata": {},
   "outputs": [
    {
     "name": "stdout",
     "output_type": "stream",
     "text": [
      "True\n"
     ]
    }
   ],
   "source": [
    "txt=\"Company123\"\n",
    "x=txt.isascii()\n",
    "print(x)"
   ]
  },
  {
   "cell_type": "code",
   "execution_count": 97,
   "id": "bfadb32b-03ce-428c-9ee0-6ba590178ede",
   "metadata": {},
   "outputs": [
    {
     "name": "stdout",
     "output_type": "stream",
     "text": [
      "True\n"
     ]
    }
   ],
   "source": [
    "txt=\"1234\"\n",
    "x=txt.isdecimal()\n",
    "print(x)"
   ]
  },
  {
   "cell_type": "code",
   "execution_count": 101,
   "id": "867fbce4-b73b-4c09-bf37-0c17b6d8e820",
   "metadata": {},
   "outputs": [
    {
     "name": "stdout",
     "output_type": "stream",
     "text": [
      "True\n"
     ]
    }
   ],
   "source": [
    "txt=\"23456\"\n",
    "x=txt.isdigit()\n",
    "print(x)"
   ]
  },
  {
   "cell_type": "code",
   "execution_count": 103,
   "id": "10765467-5329-48d6-a3b3-a604856d2b21",
   "metadata": {},
   "outputs": [
    {
     "name": "stdout",
     "output_type": "stream",
     "text": [
      "True\n"
     ]
    }
   ],
   "source": [
    "txt=\"demo\"\n",
    "x=txt.isidentifier()\n",
    "print(x)"
   ]
  },
  {
   "cell_type": "code",
   "execution_count": 105,
   "id": "8b4dea3c-7f4f-45f1-9054-d823fef88cdc",
   "metadata": {},
   "outputs": [
    {
     "name": "stdout",
     "output_type": "stream",
     "text": [
      "True\n"
     ]
    }
   ],
   "source": [
    "txt=\"hello world\"\n",
    "x=txt.islower()\n",
    "print(x)"
   ]
  },
  {
   "cell_type": "code",
   "execution_count": 107,
   "id": "63538781-c0cb-4b04-8609-43c744a8585e",
   "metadata": {},
   "outputs": [
    {
     "name": "stdout",
     "output_type": "stream",
     "text": [
      "True\n"
     ]
    }
   ],
   "source": [
    "txt=\"54332\"\n",
    "x=txt.isnumeric()\n",
    "print(x)"
   ]
  },
  {
   "cell_type": "code",
   "execution_count": 109,
   "id": "cac9452d-a821-4a8b-ab25-ccb4cad96b96",
   "metadata": {},
   "outputs": [
    {
     "name": "stdout",
     "output_type": "stream",
     "text": [
      "True\n"
     ]
    }
   ],
   "source": [
    "txt=\"Hello, are you #1 ?\"\n",
    "x=txt.isprintable()\n",
    "print(x)"
   ]
  },
  {
   "cell_type": "code",
   "execution_count": 111,
   "id": "97fde647-6e3d-4df7-8d81-98a47ba47066",
   "metadata": {},
   "outputs": [
    {
     "name": "stdout",
     "output_type": "stream",
     "text": [
      "True\n"
     ]
    }
   ],
   "source": [
    "txt=\"   \"\n",
    "x=txt.isspace()\n",
    "print(x)"
   ]
  },
  {
   "cell_type": "code",
   "execution_count": 113,
   "id": "fd93f330-e6f8-4a6f-b3ae-3f68eb429f53",
   "metadata": {},
   "outputs": [
    {
     "name": "stdout",
     "output_type": "stream",
     "text": [
      "False\n"
     ]
    }
   ],
   "source": [
    "txt=\"Hello,And Welcome To My world\"\n",
    "x=txt.istitle()\n",
    "print(x)"
   ]
  },
  {
   "cell_type": "code",
   "execution_count": 115,
   "id": "355cd9f1-ff0d-4c18-9529-97f5b82efe09",
   "metadata": {},
   "outputs": [
    {
     "name": "stdout",
     "output_type": "stream",
     "text": [
      "True\n"
     ]
    }
   ],
   "source": [
    "txt=\"HELLO\"\n",
    "x=txt.isupper()\n",
    "print(x)"
   ]
  },
  {
   "cell_type": "code",
   "execution_count": 117,
   "id": "c6481865-1989-46b1-820e-00c7fe7258c9",
   "metadata": {},
   "outputs": [
    {
     "name": "stdout",
     "output_type": "stream",
     "text": [
      "hello*salem*hi\n"
     ]
    }
   ],
   "source": [
    "mytuple={\"hi\",\"hello\",\"salem\"}\n",
    "x=\"*\".join(mytuple)\n",
    "print(x)"
   ]
  },
  {
   "cell_type": "code",
   "execution_count": 121,
   "id": "84b6ba39-dfed-4686-94a1-8c8cb951f400",
   "metadata": {},
   "outputs": [
    {
     "name": "stdout",
     "output_type": "stream",
     "text": [
      "banana               is my favorite fruit.\n"
     ]
    }
   ],
   "source": [
    "txt = \"banana\"\n",
    "\n",
    "x = txt.ljust(20)\n",
    "\n",
    "print(x, \"is my favorite fruit.\")"
   ]
  },
  {
   "cell_type": "code",
   "execution_count": 123,
   "id": "1535fa59-a23e-48bf-94db-cdf28e4c9139",
   "metadata": {},
   "outputs": [
    {
     "name": "stdout",
     "output_type": "stream",
     "text": [
      "hello,my world\n"
     ]
    }
   ],
   "source": [
    "txt=\"Hello,My World\"\n",
    "x=txt.lower()\n",
    "print(x)"
   ]
  },
  {
   "cell_type": "code",
   "execution_count": 129,
   "id": "d951548e-757f-4d95-900d-fb28bded917e",
   "metadata": {},
   "outputs": [
    {
     "name": "stdout",
     "output_type": "stream",
     "text": [
      "of all fruits banana      is my favorite\n"
     ]
    }
   ],
   "source": [
    "txt = \"     banana     \"\n",
    "\n",
    "x = txt.lstrip()\n",
    "\n",
    "print(\"of all fruits\", x, \"is my favorite\")"
   ]
  },
  {
   "cell_type": "code",
   "execution_count": 133,
   "id": "dabe4b1f-4470-42ae-ba14-609961d1a02c",
   "metadata": {},
   "outputs": [
    {
     "name": "stdout",
     "output_type": "stream",
     "text": [
      "Hello Pam!\n"
     ]
    }
   ],
   "source": [
    "txt = \"Hello Sam!\"\n",
    "mytable = str.maketrans(\"S\", \"P\")\n",
    "print(txt.translate(mytable))"
   ]
  },
  {
   "cell_type": "code",
   "execution_count": 139,
   "id": "48d45977-b0a4-4255-88e6-e7c4ec78d754",
   "metadata": {},
   "outputs": [
    {
     "name": "stdout",
     "output_type": "stream",
     "text": [
      "('I could eat ', 'cherry', ' all day')\n"
     ]
    }
   ],
   "source": [
    "txt=\"I could eat cherry all day\"\n",
    "x=txt.partition(\"cherry\")\n",
    "print(x)"
   ]
  },
  {
   "cell_type": "code",
   "execution_count": 143,
   "id": "df2a4c54-1ec9-4683-b26e-bf279ec00def",
   "metadata": {},
   "outputs": [
    {
     "name": "stdout",
     "output_type": "stream",
     "text": [
      "I like apple\n"
     ]
    }
   ],
   "source": [
    "txt=\"I like cherry\"\n",
    "x=txt.replace(\"cherry\",\"apple\")\n",
    "print(x)"
   ]
  },
  {
   "cell_type": "code",
   "execution_count": 145,
   "id": "e327ac7d-6823-4a3f-9e8f-6914880d726d",
   "metadata": {},
   "outputs": [
    {
     "name": "stdout",
     "output_type": "stream",
     "text": [
      "12\n"
     ]
    }
   ],
   "source": [
    "txt = \"Mi casa, su casa.\"\n",
    "\n",
    "x = txt.rfind(\"casa\")\n",
    "\n",
    "print(x)"
   ]
  },
  {
   "cell_type": "code",
   "execution_count": 147,
   "id": "415763e1-5f68-4b51-b98c-54846004bd7c",
   "metadata": {},
   "outputs": [
    {
     "name": "stdout",
     "output_type": "stream",
     "text": [
      "12\n"
     ]
    }
   ],
   "source": [
    "txt = \"Mi casa, su casa.\"\n",
    "\n",
    "x = txt.rindex(\"casa\")\n",
    "\n",
    "print(x)"
   ]
  },
  {
   "cell_type": "code",
   "execution_count": 151,
   "id": "a51f3a4b-2c39-4d39-a09c-66051f6368fd",
   "metadata": {},
   "outputs": [
    {
     "name": "stdout",
     "output_type": "stream",
     "text": [
      "              Cherry is my favorite\n"
     ]
    }
   ],
   "source": [
    "#Return 20 charaters long,right justified version of the word \"Cherry\"\n",
    "txt=\"Cherry\"\n",
    "x=txt.rjust(20)\n",
    "print(x,\"is my favorite\")"
   ]
  },
  {
   "cell_type": "code",
   "execution_count": 161,
   "id": "e597c308-1488-4aed-9208-c8e3b349f5c8",
   "metadata": {},
   "outputs": [
    {
     "name": "stdout",
     "output_type": "stream",
     "text": [
      "('I could eat bananas all day, ', 'bananas', ' are my favorite fruit')\n"
     ]
    }
   ],
   "source": [
    "txt = \"I could eat bananas all day, bananas are my favorite fruit\"\n",
    "\n",
    "x = txt.rpartition(\"bananas\")\n",
    "\n",
    "print(x)"
   ]
  },
  {
   "cell_type": "code",
   "execution_count": 163,
   "id": "c49feabb-5402-487c-96e2-e0d41d3e0d8b",
   "metadata": {},
   "outputs": [
    {
     "name": "stdout",
     "output_type": "stream",
     "text": [
      "['hi', ' salem', ' privet']\n"
     ]
    }
   ],
   "source": [
    "txt=\"hi, salem, privet\"\n",
    "x=txt.rsplit(\",\")\n",
    "print(x)"
   ]
  },
  {
   "cell_type": "code",
   "execution_count": 165,
   "id": "d392c962-6e4d-4111-9a8b-32e18dc09acb",
   "metadata": {},
   "outputs": [
    {
     "name": "stdout",
     "output_type": "stream",
     "text": [
      "['welcome', 'to', 'almaty']\n"
     ]
    }
   ],
   "source": [
    "txt=\"welcome to almaty\"\n",
    "x=txt.split()\n",
    "print(x)"
   ]
  },
  {
   "cell_type": "code",
   "execution_count": 167,
   "id": "40a81e82-52cf-454d-9623-04b35ae13d9f",
   "metadata": {},
   "outputs": [
    {
     "name": "stdout",
     "output_type": "stream",
     "text": [
      "['Thank you for the help', 'welcome to Almaty']\n"
     ]
    }
   ],
   "source": [
    "txt=\"Thank you for the help\\nwelcome to Almaty\"\n",
    "x=txt.splitlines()\n",
    "print(x)"
   ]
  },
  {
   "cell_type": "code",
   "execution_count": 169,
   "id": "df92602e-93f4-45ac-8526-f9ff166e70e4",
   "metadata": {},
   "outputs": [
    {
     "name": "stdout",
     "output_type": "stream",
     "text": [
      "False\n"
     ]
    }
   ],
   "source": [
    "txt=\"Hello,welcome\"\n",
    "x=txt.startswith(\"hello\")\n",
    "print(x)"
   ]
  },
  {
   "cell_type": "code",
   "execution_count": 171,
   "id": "3ef905db-2067-448c-8479-3809d6aff3ba",
   "metadata": {},
   "outputs": [
    {
     "name": "stdout",
     "output_type": "stream",
     "text": [
      "HELlO My NAME\n"
     ]
    }
   ],
   "source": [
    "txt=\"helLo mY name\"\n",
    "x=txt.swapcase()\n",
    "print(x)"
   ]
  },
  {
   "cell_type": "code",
   "execution_count": 173,
   "id": "f4251fec-46cf-4531-9ad4-4e3da4fa8f90",
   "metadata": {},
   "outputs": [
    {
     "name": "stdout",
     "output_type": "stream",
     "text": [
      "Hello Welcome To Almaty\n"
     ]
    }
   ],
   "source": [
    "txt=\"Hello welcome to almaty\"\n",
    "x=txt.title()\n",
    "print(x)"
   ]
  },
  {
   "cell_type": "code",
   "execution_count": 175,
   "id": "d9a24f89-657b-4bca-848d-aa94bd3e246c",
   "metadata": {},
   "outputs": [
    {
     "name": "stdout",
     "output_type": "stream",
     "text": [
      "00000000000000000050\n"
     ]
    }
   ],
   "source": [
    "txt=\"50\"\n",
    "x=txt.zfill(20)\n",
    "print(x)"
   ]
  },
  {
   "cell_type": "code",
   "execution_count": null,
   "id": "b3777932-3493-4688-a43d-e66fb40bb4c9",
   "metadata": {},
   "outputs": [],
   "source": []
  }
 ],
 "metadata": {
  "kernelspec": {
   "display_name": "Python [conda env:base] *",
   "language": "python",
   "name": "conda-base-py"
  },
  "language_info": {
   "codemirror_mode": {
    "name": "ipython",
    "version": 3
   },
   "file_extension": ".py",
   "mimetype": "text/x-python",
   "name": "python",
   "nbconvert_exporter": "python",
   "pygments_lexer": "ipython3",
   "version": "3.12.7"
  }
 },
 "nbformat": 4,
 "nbformat_minor": 5
}
