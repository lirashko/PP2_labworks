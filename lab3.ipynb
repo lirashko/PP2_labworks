{
 "cells": [
  {
   "cell_type": "markdown",
   "id": "4b54019c-60fc-49c6-a0dc-7251fd695c40",
   "metadata": {},
   "source": [
    "Task 1 StringManipulator Class"
   ]
  },
  {
   "cell_type": "code",
   "execution_count": 21,
   "id": "9c7ffc84-abb7-42c0-84ac-312b04ae7b94",
   "metadata": {},
   "outputs": [
    {
     "name": "stdin",
     "output_type": "stream",
     "text": [
      "Enter a string:  hello\n"
     ]
    },
    {
     "name": "stdout",
     "output_type": "stream",
     "text": [
      "String in uppercase: HELLO\n"
     ]
    }
   ],
   "source": [
    "class StringManipulator:\n",
    "    def __init__(self):\n",
    "        self.input_string = \"\"\n",
    "\n",
    "    def getString(self):\n",
    "        self.input_string = input(\"Enter a string: \")\n",
    "\n",
    "    def printString(self):\n",
    "        print(\"String in uppercase:\", self.input_string.upper())\n",
    "\n",
    "s= StringManipulator()\n",
    "s.getString()\n",
    "s.printString()\n"
   ]
  },
  {
   "cell_type": "markdown",
   "id": "1444071e-b0ea-4570-9325-4c51cc9c8884",
   "metadata": {},
   "source": [
    "Task 2 Shape and Square Classes"
   ]
  },
  {
   "cell_type": "code",
   "execution_count": 27,
   "id": "b53b9968-8e3d-48a5-bbbe-8a08bb883e0c",
   "metadata": {},
   "outputs": [
    {
     "name": "stdout",
     "output_type": "stream",
     "text": [
      "Square with length 5,area: 25\n"
     ]
    }
   ],
   "source": [
    "class Shape:\n",
    "    def area(self):\n",
    "        return 0  # Default area for generic shape\n",
    "\n",
    "class Square(Shape):\n",
    "    def __init__(self, length):\n",
    "        self.length = length\n",
    "\n",
    "    def area(self):\n",
    "        return self.length * self.length\n",
    "\n",
    "    def __str__(self): \n",
    "        return f\"Square with length {self.length},area: {self.area()}\"\n",
    "\n",
    "square=Square(5)\n",
    "print(square)"
   ]
  },
  {
   "cell_type": "markdown",
   "id": "f62c27f7-5a9e-4dc6-948f-d04a52a4badd",
   "metadata": {},
   "source": [
    "Task 3 Rectangle Class (Inherits from Shape)"
   ]
  },
  {
   "cell_type": "code",
   "execution_count": 29,
   "id": "10b068fc-5826-4a42-acc6-7cf16c1dd6dd",
   "metadata": {},
   "outputs": [
    {
     "name": "stdout",
     "output_type": "stream",
     "text": [
      "50\n",
      "Rectangle with length 5, width 10, area: 50\n"
     ]
    }
   ],
   "source": [
    "class Shape:\n",
    "    def area(self):\n",
    "        return 0  \n",
    "\n",
    "class Rectangle(Shape):\n",
    "    def __init__(self, length, width):\n",
    "        self.length = length\n",
    "        self.width = width\n",
    "\n",
    "    def area(self):   \n",
    "        return self.length * self.width\n",
    "\n",
    "    def __str__(self):  \n",
    "        return f\"Rectangle with length {self.length}, width {self.width}, area: {self.area()}\"\n",
    "\n",
    "s= Rectangle(5, 10)\n",
    "\n",
    "print(s.area())\n",
    "print(s)\n"
   ]
  },
  {
   "cell_type": "markdown",
   "id": "ead1db95-9e6b-44c4-b0f5-8f7dc9e79ea2",
   "metadata": {},
   "source": [
    "Task 4: Point Class"
   ]
  },
  {
   "cell_type": "code",
   "execution_count": 31,
   "id": "ed8dac08-d60e-4cc3-a75e-f48526a40b4f",
   "metadata": {},
   "outputs": [
    {
     "name": "stdout",
     "output_type": "stream",
     "text": [
      "Coordinates of the point: (3, 4)\n",
      "Point moved to: (6, 8)\n",
      "Coordinates of the point: (7, 1)\n",
      "Distance between p1 and p2: 7.07\n"
     ]
    }
   ],
   "source": [
    "import math \n",
    "\n",
    "class Point:\n",
    "    def __init__(self, x, y):\n",
    "        self.x = x\n",
    "        self.y = y\n",
    "\n",
    "    def show(self):\n",
    "        print(f\"Coordinates of the point: ({self.x}, {self.y})\")\n",
    "\n",
    "    def move(self, new_x, new_y):\n",
    "        self.x = new_x\n",
    "        self.y = new_y\n",
    "        print(f\"Point moved to: ({self.x}, {self.y})\")\n",
    "\n",
    "    def dist(self, other_point):\n",
    "        distance = math.sqrt((self.x - other_point.x)**2 + (self.y - other_point.y)**2)\n",
    "        return distance\n",
    "\n",
    "p1 = Point(3, 4)\n",
    "p2 = Point(7, 1)\n",
    "\n",
    "p1.show()\n",
    "p1.move(6, 8)\n",
    "p2.show()\n",
    "distance = p1.dist(p2)\n",
    "print(f\"Distance between p1 and p2: {distance:.2f}\")\n"
   ]
  },
  {
   "cell_type": "markdown",
   "id": "0eaf6844-3daa-48d4-a9b7-07963bc4a818",
   "metadata": {},
   "source": [
    "Task 5: BankAccount Class"
   ]
  },
  {
   "cell_type": "code",
   "execution_count": 33,
   "id": "4434eccd-2ce1-4394-b672-4a55188b29b6",
   "metadata": {},
   "outputs": [
    {
     "name": "stdout",
     "output_type": "stream",
     "text": [
      "Deposit of $50 accepted. Current balance: $150\n",
      "Withdrawal of $30 accepted. Current balance: $120\n",
      "Insufficient funds!\n"
     ]
    }
   ],
   "source": [
    "class BankAccount:\n",
    "    def __init__(self, owner, balance=0):\n",
    "        self.owner = owner  \n",
    "        self.balance = balance \n",
    "\n",
    "    def deposit(self, amount):\n",
    "        self.balance += amount\n",
    "        print(f\"Deposit of ${amount} accepted. Current balance: ${self.balance}\")\n",
    "\n",
    "    def withdraw(self, amount):\n",
    "        if self.balance >= amount:\n",
    "            self.balance -= amount\n",
    "            print(f\"Withdrawal of ${amount} accepted. Current balance: ${self.balance}\")\n",
    "        else:\n",
    "            print(\"Insufficient funds!\") \n",
    "\n",
    "account = BankAccount(\"John Doe\", 100)\n",
    "account.deposit(50) \n",
    "account.withdraw(30)\n",
    "account.withdraw(200)\n"
   ]
  },
  {
   "cell_type": "markdown",
   "id": "c3b631e1-088a-47a8-9cf6-4095f15ee0db",
   "metadata": {},
   "source": [
    "Filtering Prime Numbers in a List using filter and lambda\n",
    "python\n"
   ]
  },
  {
   "cell_type": "code",
   "execution_count": 11,
   "id": "3d446b42-4f8d-4f25-a8e7-023cb0abe290",
   "metadata": {},
   "outputs": [
    {
     "name": "stdout",
     "output_type": "stream",
     "text": [
      "Prime numbers in the list: [2, 3, 5, 7]\n"
     ]
    }
   ],
   "source": [
    "def is_prime(num):\n",
    "    if num < 2:\n",
    "        return False\n",
    "    for i in range(2, int(num ** 0.5) + 1):\n",
    "        if num % i == 0:\n",
    "            return False\n",
    "    return True\n",
    "\n",
    "# Example of using filter with lambda to filter prime numbers\n",
    "numbers = [1, 2, 3, 4, 5, 6, 7, 8, 9, 10]\n",
    "prime_numbers = list(filter(lambda x: is_prime(x), numbers))\n",
    "print(\"Prime numbers in the list:\", prime_numbers)"
   ]
  },
  {
   "cell_type": "code",
   "execution_count": 37,
   "id": "edb908dc-7bfc-4d98-8f51-4c93c3e7b44f",
   "metadata": {},
   "outputs": [
    {
     "name": "stdout",
     "output_type": "stream",
     "text": [
      "Is 'Usual Suspects' highly rated? True\n",
      "\n",
      "Highly rated movies:\n",
      "Usual Suspects - IMDb: 7.0\n",
      "Hitman - IMDb: 6.3\n",
      "Dark Knight - IMDb: 9.0\n",
      "The Help - IMDb: 8.0\n",
      "The Choice - IMDb: 6.2\n",
      "Colonia - IMDb: 7.4\n",
      "Love - IMDb: 6.0\n",
      "Joking muck - IMDb: 7.2\n",
      "What is the name - IMDb: 9.2\n",
      "Detective - IMDb: 7.0\n",
      "We Two - IMDb: 7.2\n",
      "\n",
      "Movies in 'Romance' category:\n",
      "The Choice - IMDb: 6.2\n",
      "Colonia - IMDb: 7.4\n",
      "Love - IMDb: 6.0\n",
      "Bride Wars - IMDb: 5.4\n",
      "We Two - IMDb: 7.2\n",
      "\n",
      "Average IMDb score of all movies:\n",
      "Average IMDb score: 6.486666666666666\n",
      "\n",
      "Average IMDb score for 'Romance' category:\n",
      "Average IMDb score: 6.44\n"
     ]
    }
   ],
   "source": [
    "import math\n",
    "import random\n",
    "from itertools import permutations\n",
    "\n",
    "def grams_to_ounces(grams):\n",
    "    return 28.3495231 * grams\n",
    "\n",
    "def fahrenheit_to_celsius(f):\n",
    "    return (5 / 9) * (f - 32)\n",
    "\n",
    "def solve(numheads, numlegs):\n",
    "    for chickens in range(numheads + 1):\n",
    "        rabbits = numheads - chickens\n",
    "        if (2 * chickens + 4 * rabbits) == numlegs:\n",
    "            return chickens, rabbits\n",
    "    return None\n",
    "\n",
    "def is_prime(n):\n",
    "    if n < 2:\n",
    "        return False\n",
    "    for i in range(2, int(math.sqrt(n)) + 1):\n",
    "        if n % i == 0:\n",
    "            return False\n",
    "    return True\n",
    "\n",
    "def filter_prime(numbers):\n",
    "    return [num for num in numbers if is_prime(num)]\n",
    "\n",
    "def string_permutations(s):\n",
    "    return list(permutations(s))\n",
    "\n",
    "def reverse_words(sentence):\n",
    "    return ' '.join(sentence.split()[::-1])\n",
    "\n",
    "def has_33(nums):\n",
    "    for i in range(len(nums) - 1):\n",
    "        if nums[i] == 3 and nums[i + 1] == 3:\n",
    "            return True\n",
    "    return False\n",
    "\n",
    "def spy_game(nums):\n",
    "    code = [0, 0, 7]\n",
    "    for num in nums:\n",
    "        if num == code[0]:\n",
    "            code.pop(0)\n",
    "        if not code:\n",
    "            return True\n",
    "    return False\n",
    "\n",
    "def sphere_volume(radius):\n",
    "    return (4 / 3) * math.pi * radius ** 3\n",
    "\n",
    "def unique_list(lst):\n",
    "    unique = []\n",
    "    for item in lst:\n",
    "        if item not in unique:\n",
    "            unique.append(item)\n",
    "    return unique\n",
    "\n",
    "def is_palindrome(s):\n",
    "    s = s.replace(\" \", \"\").lower()\n",
    "    return s == s[::-1]\n",
    "\n",
    "def histogram(lst):\n",
    "    for num in lst:\n",
    "        print('*' * num)\n",
    "\n",
    "def guess_the_number():\n",
    "    name = input(\"Hello! What is your name?\\n\")\n",
    "    number = random.randint(1, 20)\n",
    "    print(f\"\\nWell, {name}, I am thinking of a number between 1 and 20.\")\n",
    "    guesses = 0\n",
    "    while True:\n",
    "        guess = int(input(\"Take a guess.\\n\"))\n",
    "        guesses += 1\n",
    "        if guess < number:\n",
    "            print(\"Your guess is too low.\")\n",
    "        elif guess > number:\n",
    "            print(\"Your guess is too high.\")\n",
    "        else:\n",
    "            print(f\"Good job, {name}! You guessed my number in {guesses} guesses!\")\n",
    "            break\n",
    "\n",
    "movies = [\n",
    "    {\"name\": \"Usual Suspects\", \"imdb\": 7.0, \"category\": \"Thriller\"},\n",
    "    {\"name\": \"Hitman\", \"imdb\": 6.3, \"category\": \"Action\"},\n",
    "    {\"name\": \"Dark Knight\", \"imdb\": 9.0, \"category\": \"Adventure\"},\n",
    "    {\"name\": \"The Help\", \"imdb\": 8.0, \"category\": \"Drama\"},\n",
    "    {\"name\": \"The Choice\", \"imdb\": 6.2, \"category\": \"Romance\"},\n",
    "    {\"name\": \"Colonia\", \"imdb\": 7.4, \"category\": \"Romance\"},\n",
    "    {\"name\": \"Love\", \"imdb\": 6.0, \"category\": \"Romance\"},\n",
    "    {\"name\": \"Bride Wars\", \"imdb\": 5.4, \"category\": \"Romance\"},\n",
    "    {\"name\": \"AlphaJet\", \"imdb\": 3.2, \"category\": \"War\"},\n",
    "    {\"name\": \"Ringing Crime\", \"imdb\": 4.0, \"category\": \"Crime\"},\n",
    "    {\"name\": \"Joking muck\", \"imdb\": 7.2, \"category\": \"Comedy\"},\n",
    "    {\"name\": \"What is the name\", \"imdb\": 9.2, \"category\": \"Suspense\"},\n",
    "    {\"name\": \"Detective\", \"imdb\": 7.0, \"category\": \"Suspense\"},\n",
    "    {\"name\": \"Exam\", \"imdb\": 4.2, \"category\": \"Thriller\"},\n",
    "    {\"name\": \"We Two\", \"imdb\": 7.2, \"category\": \"Romance\"}\n",
    "]\n",
    "\n",
    "def is_highly_rated(movie):\n",
    "    return movie[\"imdb\"] > 5.5\n",
    "\n",
    "def highly_rated_movies(movies):\n",
    "    return [movie for movie in movies if is_highly_rated(movie)]\n",
    "\n",
    "def movies_by_category(movies, category):\n",
    "    return [movie for movie in movies if movie[\"category\"].lower() == category.lower()]\n",
    "\n",
    "def average_imdb(movies):\n",
    "    return sum(movie[\"imdb\"] for movie in movies) / len(movies)\n",
    "\n",
    "def average_imdb_by_category(movies, category):\n",
    "    category_movies = movies_by_category(movies, category)\n",
    "    return average_imdb(category_movies) if category_movies else 0\n",
    "\n",
    "# Output Results\n",
    "\n",
    "# 1. Check if a movie is highly rated\n",
    "movie = movies[0]  # Usual Suspects\n",
    "print(f\"Is '{movie['name']}' highly rated? {is_highly_rated(movie)}\")\n",
    "\n",
    "# 2. List of highly rated movies\n",
    "print(\"\\nHighly rated movies:\")\n",
    "highly_rated = highly_rated_movies(movies)\n",
    "for m in highly_rated:\n",
    "    print(f\"{m['name']} - IMDb: {m['imdb']}\")\n",
    "\n",
    "# 3. Movies by category (e.g., Romance)\n",
    "category = \"Romance\"\n",
    "print(f\"\\nMovies in '{category}' category:\")\n",
    "romance_movies = movies_by_category(movies, category)\n",
    "for m in romance_movies:\n",
    "    print(f\"{m['name']} - IMDb: {m['imdb']}\")\n",
    "\n",
    "# 4. Average IMDb score of all movies\n",
    "print(\"\\nAverage IMDb score of all movies:\")\n",
    "print(f\"Average IMDb score: {average_imdb(movies)}\")\n",
    "\n",
    "# 5. Average IMDb score by category (e.g., Romance)\n",
    "print(f\"\\nAverage IMDb score for '{category}' category:\")\n",
    "print(f\"Average IMDb score: {average_imdb_by_category(movies, category)}\")"
   ]
  },
  {
   "cell_type": "code",
   "execution_count": 35,
   "id": "7c938758-8949-42e5-bb90-ebe65c3d77ea",
   "metadata": {},
   "outputs": [
    {
     "name": "stdout",
     "output_type": "stream",
     "text": [
      "[('a', 'b', 'c'), ('a', 'c', 'b'), ('b', 'a', 'c'), ('b', 'c', 'a'), ('c', 'a', 'b'), ('c', 'b', 'a')]\n"
     ]
    }
   ],
   "source": [
    "import math\n",
    "import random\n",
    "from itertools import permutations\n",
    "\n",
    "def grams_to_ounces(grams):\n",
    "    return 28.3495231 * grams\n",
    "\n",
    "def fahrenheit_to_celsius(f):\n",
    "    return (5 / 9) * (f - 32)\n",
    "\n",
    "def solve(numheads, numlegs):\n",
    "    for chickens in range(numheads + 1):\n",
    "        rabbits = numheads - chickens\n",
    "        if (2 * chickens + 4 * rabbits) == numlegs:\n",
    "            return chickens, rabbits\n",
    "    return None\n",
    "\n",
    "def is_prime(n):\n",
    "    if n < 2:\n",
    "        return False\n",
    "    for i in range(2, int(math.sqrt(n)) + 1):\n",
    "        if n % i == 0:\n",
    "            return False\n",
    "    return True\n",
    "\n",
    "def filter_prime(numbers):\n",
    "    return [num for num in numbers if is_prime(num)]\n",
    "\n",
    "def string_permutations(s):\n",
    "    return list(permutations(s))\n",
    "\n",
    "def reverse_words(sentence):\n",
    "    return ' '.join(sentence.split()[::-1])\n",
    "\n",
    "def has_33(nums):\n",
    "    for i in range(len(nums) - 1):\n",
    "        if nums[i] == 3 and nums[i + 1] == 3:\n",
    "            return True\n",
    "    return False\n",
    "\n",
    "def spy_game(nums):\n",
    "    code = [0, 0, 7]\n",
    "    for num in nums:\n",
    "        if num == code[0]:\n",
    "            code.pop(0)\n",
    "        if not code:\n",
    "            return True\n",
    "    return False\n",
    "\n",
    "def sphere_volume(radius):\n",
    "    return (4 / 3) * math.pi * radius ** 3\n",
    "\n",
    "def unique_list(lst):\n",
    "    unique = []\n",
    "    for item in lst:\n",
    "        if item not in unique:\n",
    "            unique.append(item)\n",
    "    return unique\n",
    "\n",
    "def is_palindrome(s):\n",
    "    s = s.replace(\" \", \"\").lower()\n",
    "    return s == s[::-1]\n",
    "\n",
    "def histogram(lst):\n",
    "    for num in lst:\n",
    "        print('*' * num)\n",
    "\n",
    "def guess_the_number():\n",
    "    name = input(\"Hello! What is your name?\\n\")\n",
    "    number = random.randint(1, 20)\n",
    "    print(f\"\\nWell, {name}, I am thinking of a number between 1 and 20.\")\n",
    "    guesses = 0\n",
    "    while True:\n",
    "        guess = int(input(\"Take a guess.\\n\"))\n",
    "        guesses += 1\n",
    "        if guess < number:\n",
    "            print(\"Your guess is too low.\")\n",
    "        elif guess > number:\n",
    "            print(\"Your guess is too high.\")\n",
    "        else:\n",
    "            print(f\"Good job, {name}! You guessed my number in {guesses} guesses!\")\n",
    "            break\n",
    "s=\"abc\"\n",
    "print(string_permutations(s))"
   ]
  },
  {
   "cell_type": "code",
   "execution_count": null,
   "id": "8272af47-e6d5-4182-b40a-3b9df42c2cb5",
   "metadata": {},
   "outputs": [],
   "source": []
  }
 ],
 "metadata": {
  "kernelspec": {
   "display_name": "Python [conda env:base] *",
   "language": "python",
   "name": "conda-base-py"
  },
  "language_info": {
   "codemirror_mode": {
    "name": "ipython",
    "version": 3
   },
   "file_extension": ".py",
   "mimetype": "text/x-python",
   "name": "python",
   "nbconvert_exporter": "python",
   "pygments_lexer": "ipython3",
   "version": "3.12.7"
  }
 },
 "nbformat": 4,
 "nbformat_minor": 5
}
